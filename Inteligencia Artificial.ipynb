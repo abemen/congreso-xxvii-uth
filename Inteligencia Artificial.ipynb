{
 "cells": [
  {
   "cell_type": "markdown",
   "id": "97a63704",
   "metadata": {
    "slideshow": {
     "slide_type": "slide"
    }
   },
   "source": [
    "# Inteligencia Artificial: herramienta esencial para el éxito empresarial\n",
    "---\n",
    "\n",
    "<img src=\"img/uth-congreso/guatemala.png\" align=\"right\" style=\"padding-top: 0.3em; padding-right: 3em\">\n",
    "\n",
    "__Por: Abelardo Méndez__  \n",
    "abemen.@umes.edu.gt"
   ]
  },
  {
   "cell_type": "markdown",
   "id": "5166c78a",
   "metadata": {
    "slideshow": {
     "slide_type": "slide"
    }
   },
   "source": [
    "# Definición\n",
    "\n",
    "Estudio de la informática centrándose en el desarrollo de software o máquinas que exhiben una inteligencia humana."
   ]
  },
  {
   "cell_type": "markdown",
   "id": "921f063a",
   "metadata": {
    "slideshow": {
     "slide_type": "fragment"
    }
   },
   "source": [
    "<center>\n",
    "    <table>\n",
    "        <tr>\n",
    "            <td><img src=\"img/ia/aibo.jpg\" width=\"280px\"><a href=\"https://us.aibo.com/\"><center><br><b>aibo</b></center></a></td>\n",
    "            <td><img src=\"img/ia/cozmo.jpg\" width=\"220px\"><a href=\"https://www.digitaldreamlabs.com/products/cozmo-robot\"><center><br><b>cozmo</b></center></a></td>\n",
    "            <td><img src=\"img/icons/wtf.png\" width=\"180px\" align=\"right\"></td>\n",
    "        <tr>\n",
    "    </table>\n",
    "</center>"
   ]
  },
  {
   "cell_type": "markdown",
   "id": "51571bdf",
   "metadata": {
    "slideshow": {
     "slide_type": "slide"
    }
   },
   "source": [
    "# Actualidad\n",
    "\n",
    "- Comprender ~ construir entidades inteligentes.\n",
    "- Un campo de rápido crecimiento.\n",
    "- Genera más de un billón de dólares al año en ingresos."
   ]
  },
  {
   "cell_type": "markdown",
   "id": "e4256360",
   "metadata": {
    "slideshow": {
     "slide_type": "slide"
    }
   },
   "source": [
    "# Enfoques\n",
    "\n",
    "<center><img src=\"img/ia/enfoques-icon.png\"></center>"
   ]
  },
  {
   "cell_type": "markdown",
   "id": "28dae4e8",
   "metadata": {
    "slideshow": {
     "slide_type": "slide"
    }
   },
   "source": [
    "![](img/ia/enfoques.png)"
   ]
  },
  {
   "cell_type": "markdown",
   "id": "01f1abd3",
   "metadata": {
    "slideshow": {
     "slide_type": "slide"
    }
   },
   "source": [
    "# Fundamentos"
   ]
  },
  {
   "cell_type": "markdown",
   "id": "578e007b",
   "metadata": {
    "slideshow": {
     "slide_type": "fragment"
    }
   },
   "source": [
    "<center><img src=\"img/ia/fundamentos.png\" width=\"800px\"></center>"
   ]
  },
  {
   "cell_type": "markdown",
   "id": "1701d41d",
   "metadata": {
    "slideshow": {
     "slide_type": "slide"
    }
   },
   "source": [
    "__Neurocincias y Psicología__\n",
    "<center>\n",
    "    <table>\n",
    "        <tr>\n",
    "            <td><img src=\"img/ia/comparacion.png\" width=\"600px\"><cite style=\"font-size:14px\">Artificial Intelligence. A modern approach (Russell & Norvig, 2022)</cite></td>\n",
    "            <td>&nbsp;</td>\n",
    "            <td><img src=\"img/ia/cerebro-ml.png\" width=\"350px\"></td>\n",
    "        <tr>\n",
    "    </table>\n",
    "</center>"
   ]
  },
  {
   "cell_type": "markdown",
   "id": "0ff95ec3",
   "metadata": {
    "slideshow": {
     "slide_type": "slide"
    }
   },
   "source": [
    "# Aplicaciones\n",
    "\n",
    "-   Medicina\n",
    "    - [Extracción de Características en Imágenes de Células de Médula Ósea para la Clasificación de Leucemias Agudas](https://inaoe.repositorioinstitucional.mx/jspui/bitstream/1009/633/1/MoralesGBA.pdf) (Morales González, 2007)\n",
    "\n",
    "    - [Análisis automático de imágenes de frotis de sangre periférica para diagnóstico de Leucemia](http://academica-e.unavarra.es/xmlui/bitstream/handle/2454/39190/Memoria%20TFG%20Hodei.pdf?sequence=1&isAllowed=y) (Zia López, 2021)\n",
    "    \n",
    "<img src=\"img/uth-congreso/icon-ciencia-black.png\" align=\"right\" style=\"padding-right: 3em\">"
   ]
  },
  {
   "cell_type": "markdown",
   "id": "8a75e3d4",
   "metadata": {
    "slideshow": {
     "slide_type": "slide"
    }
   },
   "source": [
    "-   Energía\n",
    "    - [Inteligencia Artificial en la Operacion de Redes Electricas. Aplicacion a sistemas aislados](https://accedacris.ulpgc.es/bitstream/10553/17092/3/0722383_00000_0000.pdf) (Padrón Hernández, 2015)\n",
    "\n",
    "    - [VADER: Visualization and Analytics of Distributed Energy Resources](https://www.energy.gov/sites/default/files/2017/08/f35/SLAC_SKiliccote_Visualization%20and%20Analytics%20of%20Distributed%20Energy%20Resources%20%28VADER%29.pdf) (energy, 2017)\n",
    "    \n",
    "    - [Nnergix ](https://www.nnergix.com/)\n",
    "    \n",
    "<img src=\"img/uth-congreso/icon-electrica-black.png\" align=\"right\" style=\"padding-right: 3em\">"
   ]
  },
  {
   "cell_type": "markdown",
   "id": "f2636f6d",
   "metadata": {
    "slideshow": {
     "slide_type": "slide"
    }
   },
   "source": [
    "-   Innovación\n",
    "\n",
    "<center><img src=\"img/ia/empresas.png\" width=\"900px\"></center>"
   ]
  },
  {
   "cell_type": "markdown",
   "id": "462998a5",
   "metadata": {
    "slideshow": {
     "slide_type": "slide"
    }
   },
   "source": [
    "# ¿Cómo?\n",
    "<center>\n",
    "    <table>\n",
    "        <tr>\n",
    "            <td><img src=\"img/ia/meme-02.jpg\" width=\"300px\"></td>\n",
    "            <td>&nbsp;</td>\n",
    "            <td><img src=\"img/ia/meme-04.png\" width=\"500px\"></td>\n",
    "        <tr>\n",
    "    </table>\n",
    "</center>"
   ]
  },
  {
   "cell_type": "markdown",
   "id": "e86fba69",
   "metadata": {
    "slideshow": {
     "slide_type": "slide"
    }
   },
   "source": [
    "## Clasificación\n",
    "\n",
    "<center>\n",
    "    <a href=\"https://www.researchgate.net/publication/350296216_Artificial_intelligence_in_product_lifecycle_management\">\n",
    "        <img src=\"img/ia/clasificacion.png\" width=\"550px\">\n",
    "    </a>\n",
    "    <cite style=\"font-size:14px\">\n",
    "Artificial intelligence in product lifecycle management (Wang, Liu, Liu & Tao, 2021)</cite>\n",
    "</center>"
   ]
  },
  {
   "cell_type": "markdown",
   "id": "d291babc",
   "metadata": {
    "slideshow": {
     "slide_type": "slide"
    }
   },
   "source": [
    "## Análisis exploratorio de datos\n",
    "\n",
    "<center>\n",
    "    <a href=\"https://www.researchgate.net/publication/329930775_A_comprehensive_review_of_tools_for_exploratory_analysis_of_tabular_industrial_datasets\">\n",
    "        <img src=\"img/ia/exploratorio.png\">\n",
    "    </a>\n",
    "    <cite style=\"font-size:14px\">The fundamental steps of the exploratory data analysis process (Ghosh et. al, 2018)</cite>\n",
    "</center>"
   ]
  },
  {
   "cell_type": "markdown",
   "id": "242a6884",
   "metadata": {
    "slideshow": {
     "slide_type": "slide"
    }
   },
   "source": [
    "## Ejemplo - Iris Dataset\n",
    "\n",
    "<center>\n",
    "    <a href=\"https://archive.ics.uci.edu/ml/datasets/iris\">\n",
    "        <img src=\"img/ia/iris-dataset.png\">\n",
    "    </a>\n",
    "    <cite style=\"font-size:14px\">Iris Data Set (Fisher, 1936)</cite>\n",
    "</center>"
   ]
  },
  {
   "cell_type": "markdown",
   "id": "ece1cd9d",
   "metadata": {
    "slideshow": {
     "slide_type": "slide"
    }
   },
   "source": [
    "## Bibliotecas a utilizar\n",
    "\n",
    "<center><img src=\"img/ia/libraries.jpg\" width=\"750px\"></center>"
   ]
  },
  {
   "cell_type": "code",
   "execution_count": null,
   "id": "008ebce3",
   "metadata": {
    "slideshow": {
     "slide_type": "slide"
    }
   },
   "outputs": [],
   "source": [
    "# Importar bibliotecas\n",
    "import numpy as np # soporte para crear vectores y matrices grandes multidimensionales\n",
    "import pandas as pd # manipulación y análisis de datos\n",
    "import matplotlib.pyplot as plt # generación de gráficos (a partir de datos en listas o arreglos)\n",
    "import seaborn as sns # interfaz de visualización de alto nivel\n",
    "from sklearn.model_selection import train_test_split # biblioteca de aprendizaje automático"
   ]
  },
  {
   "cell_type": "code",
   "execution_count": null,
   "id": "5a83e277",
   "metadata": {
    "scrolled": true,
    "slideshow": {
     "slide_type": "slide"
    }
   },
   "outputs": [],
   "source": [
    "# Cargar el dataset\n",
    "data = sns.load_dataset('iris')\n",
    "data.head(10)"
   ]
  },
  {
   "cell_type": "code",
   "execution_count": null,
   "id": "a3379366",
   "metadata": {
    "slideshow": {
     "slide_type": "slide"
    }
   },
   "outputs": [],
   "source": [
    "# Resumen de datos\n",
    "data.describe()"
   ]
  },
  {
   "cell_type": "code",
   "execution_count": null,
   "id": "227880da",
   "metadata": {
    "slideshow": {
     "slide_type": "slide"
    }
   },
   "outputs": [],
   "source": [
    "# Distribución de cada clase\n",
    "data.groupby('species').size()"
   ]
  },
  {
   "cell_type": "code",
   "execution_count": null,
   "id": "61acb835",
   "metadata": {
    "slideshow": {
     "slide_type": "slide"
    }
   },
   "outputs": [],
   "source": [
    "# Separación de datos en Entrenamiento-Prueba\n",
    "entrenamiento, prueba = train_test_split(data, test_size = 0.4, stratify = data['species'],\n",
    "                                         random_state=42)\n",
    "entrenamiento.head(10)"
   ]
  },
  {
   "cell_type": "code",
   "execution_count": null,
   "id": "53032350",
   "metadata": {
    "slideshow": {
     "slide_type": "slide"
    }
   },
   "outputs": [],
   "source": [
    "# Diagramas Box-plot\n",
    "fig, axs = plt.subplots(2,2)\n",
    "caracteristica = [\"sepal_length\", \"sepal_width\", \"petal_length\", \"petal_width\"]\n",
    "especie = ['setosa', 'versicolor', 'virginica']\n",
    "sns.boxplot(x = 'species', y = 'sepal_length', data= entrenamiento, order=especie, ax=axs[0,0])\n",
    "sns.boxplot(x = 'species', y = 'sepal_width', data= entrenamiento, order=especie, ax=axs[0,1])\n",
    "sns.boxplot(x = 'species', y = 'petal_length', data= entrenamiento, order=especie, ax=axs[1,0])\n",
    "sns.boxplot(x = 'species', y = 'petal_width', data= entrenamiento, order=especie, ax=axs[1,1])\n",
    "fig.tight_layout(pad=1.0);"
   ]
  },
  {
   "cell_type": "code",
   "execution_count": null,
   "id": "e9e9a931",
   "metadata": {
    "slideshow": {
     "slide_type": "slide"
    }
   },
   "outputs": [],
   "source": [
    "# Diagramas de dispersión de los atributos emparejados\n",
    "sns.pairplot(entrenamiento, hue=\"species\", height=1.5, palette='colorblind');"
   ]
  },
  {
   "cell_type": "code",
   "execution_count": null,
   "id": "a56d5026",
   "metadata": {
    "scrolled": true,
    "slideshow": {
     "slide_type": "slide"
    }
   },
   "outputs": [],
   "source": [
    "# Matriz de correlación\n",
    "corrmat = entrenamiento.corr()\n",
    "sns.heatmap(corrmat, annot=True, square = True);"
   ]
  },
  {
   "cell_type": "markdown",
   "id": "dfa3172d",
   "metadata": {
    "slideshow": {
     "slide_type": "slide"
    }
   },
   "source": [
    "## Construir clasificadores\n",
    "\n",
    "<center><img src=\"img/ia/clasificadores.png\"></center>"
   ]
  },
  {
   "cell_type": "markdown",
   "id": "15386f10",
   "metadata": {
    "slideshow": {
     "slide_type": "slide"
    }
   },
   "source": [
    "## Árbol de decisión (clasificación)\n",
    "\n",
    "<center><img src=\"img/ia/arbol-decision.png\" width=\"750px\"></center>"
   ]
  },
  {
   "cell_type": "code",
   "execution_count": null,
   "id": "c3ee72f2",
   "metadata": {
    "slideshow": {
     "slide_type": "slide"
    }
   },
   "outputs": [],
   "source": [
    "# Bibliotecas necesarias\n",
    "from sklearn.tree import DecisionTreeClassifier, plot_tree # modelos para el árbol de decisión\n",
    "from sklearn import metrics # Mediciones (efectividad)"
   ]
  },
  {
   "cell_type": "code",
   "execution_count": null,
   "id": "f5eaaacf",
   "metadata": {
    "slideshow": {
     "slide_type": "slide"
    }
   },
   "outputs": [],
   "source": [
    "# Separación de la etiqueta de clase y atributos\n",
    "# Conjunto de datos de entrenamiento\n",
    "X_entrenamiento = entrenamiento[['sepal_length', 'sepal_width', 'petal_length', 'petal_width']]\n",
    "y_entrenamiento = entrenamiento['species']\n",
    "# Conjunto de datos de prueba\n",
    "X_prueba = prueba[['sepal_length', 'sepal_width', 'petal_length', 'petal_width']]\n",
    "y_prueba = prueba['species']\n",
    "\n",
    "print(X_entrenamiento.head(5))\n",
    "print(y_entrenamiento.head(5))"
   ]
  },
  {
   "cell_type": "code",
   "execution_count": null,
   "id": "4e7c4892",
   "metadata": {
    "slideshow": {
     "slide_type": "slide"
    }
   },
   "outputs": [],
   "source": [
    "# Árbol de decisión\n",
    "mod_arbol = DecisionTreeClassifier(max_depth = 3, random_state=1)\n",
    "mod_arbol.fit(X_entrenamiento, y_entrenamiento)\n",
    "prediccion = mod_arbol.predict(X_prueba)\n",
    "print('La precisión del árbol de decisión es {:.3f}'.format(metrics.accuracy_score(prediccion, y_prueba)))\n",
    "\n",
    "# importancia de cada predictor\n",
    "mod_arbol.feature_importances_\n",
    "\n",
    "# Para demostrar lo fácil que es clasificar nuevos valores de atributos, se supondrá una nueva entrada con valores de:\n",
    "# - Longitud de pétalo = 4.7 cm\n",
    "#- Ancho de pétalo = 1.4 cm"
   ]
  },
  {
   "cell_type": "code",
   "execution_count": null,
   "id": "0352dc9b",
   "metadata": {
    "slideshow": {
     "slide_type": "slide"
    }
   },
   "outputs": [],
   "source": [
    "# Visualizar las reglas de clasificación\n",
    "plt.figure(figsize=(10,8))\n",
    "plot_tree(mod_arbol, feature_names = caracteristica, class_names = especie, filled = True);"
   ]
  },
  {
   "cell_type": "code",
   "execution_count": null,
   "id": "4598bf24",
   "metadata": {
    "slideshow": {
     "slide_type": "slide"
    }
   },
   "outputs": [],
   "source": [
    "from pandas.plotting import parallel_coordinates\n",
    "from sklearn.naive_bayes import GaussianNB\n",
    "from sklearn.discriminant_analysis import LinearDiscriminantAnalysis, QuadraticDiscriminantAnalysis\n",
    "from sklearn.neighbors import KNeighborsClassifier\n",
    "from sklearn.svm import SVC\n",
    "from sklearn.linear_model import LogisticRegression"
   ]
  },
  {
   "cell_type": "markdown",
   "id": "28011241",
   "metadata": {
    "slideshow": {
     "slide_type": "slide"
    }
   },
   "source": [
    "## Ejemplo - Segmentación de clientes\n",
    "\n",
    "[Mall Customer Segmentation Data.](https://www.kaggle.com/datasets/vjchoudhary7/customer-segmentation-tutorial-in-python?resource=download)\n",
    "\n",
    "__Problema__: el dueño del centro comercial desea comprender a los clientes para que el equipo de marketing planifique la estrategia.\n",
    "\n",
    "### Kmeans\n",
    "\n",
    "<center>\n",
    "    <img src=\"img/ia/kmeans.gif\">\n",
    "</center>"
   ]
  },
  {
   "cell_type": "code",
   "execution_count": null,
   "id": "14a6b315",
   "metadata": {
    "slideshow": {
     "slide_type": "slide"
    }
   },
   "outputs": [],
   "source": [
    "# Bibliotecas necesarias\n",
    "from mpl_toolkits import mplot3d # Visualización en 3D\n",
    "from sklearn.cluster import KMeans\n",
    "from sklearn.metrics import silhouette_score, calinski_harabasz_score"
   ]
  },
  {
   "cell_type": "code",
   "execution_count": null,
   "id": "944e0342",
   "metadata": {
    "slideshow": {
     "slide_type": "fragment"
    }
   },
   "outputs": [],
   "source": [
    "# Carga de datos\n",
    "url = \"https://raw.githubusercontent.com/SteffiPeTaffy/machineLearningAZ/master/Machine%20Learning%20A-Z%20Template%20Folder/Part%204%20-%20Clustering/Section%2025%20-%20Hierarchical%20Clustering/Mall_Customers.csv\"\n",
    "clientes = pd.read_csv(url)\n",
    "clientes.head(5)"
   ]
  },
  {
   "cell_type": "code",
   "execution_count": null,
   "id": "3ebb8988",
   "metadata": {
    "slideshow": {
     "slide_type": "slide"
    }
   },
   "outputs": [],
   "source": [
    "clientes.drop(columns=['CustomerID', 'Genre'], inplace=True)\n",
    "clientes.head(5)"
   ]
  },
  {
   "cell_type": "code",
   "execution_count": null,
   "id": "11441eeb",
   "metadata": {
    "slideshow": {
     "slide_type": "slide"
    }
   },
   "outputs": [],
   "source": [
    "# Creación del modelo\n",
    "km = KMeans(n_clusters=5, n_init=100, max_iter=1000, init='random')\n",
    "prediccionkm = km.fit_predict(clientes)"
   ]
  },
  {
   "cell_type": "code",
   "execution_count": null,
   "id": "e354b88e",
   "metadata": {
    "slideshow": {
     "slide_type": "fragment"
    }
   },
   "outputs": [],
   "source": [
    "# Medidas de evaluación\n",
    "# interpretación y validación de la coherencia\n",
    "print('Silhouette {:.3f}'.format(silhouette_score(clientes, prediccionkm)))\n",
    "# Criterio de la razón de varianza.\n",
    "print('Calinski y Harabasz {:.3f}'.format(calinski_harabasz_score(clientes, prediccionkm)))"
   ]
  },
  {
   "cell_type": "code",
   "execution_count": null,
   "id": "1eb93af6",
   "metadata": {
    "slideshow": {
     "slide_type": "slide"
    }
   },
   "outputs": [],
   "source": [
    "%matplotlib notebook\n",
    "fig = plt.figure(figsize=(10,7))\n",
    "ax = plt.axes(projection='3d')\n",
    "ax.scatter3D(clientes['Age'], clientes['Annual Income (k$)'], clientes['Spending Score (1-100)'],\n",
    "             c=prediccionkm, cmap='tab10')\n",
    "plt.title('Clientes del centro comercial')\n",
    "ax.set_xlabel('Edad')\n",
    "ax.set_ylabel('Ingreso anual (miles $)')\n",
    "ax.set_zlabel('Puntuación de gastos')\n",
    "plt.show()"
   ]
  },
  {
   "cell_type": "markdown",
   "id": "7e7f6e19",
   "metadata": {
    "slideshow": {
     "slide_type": "slide"
    }
   },
   "source": [
    "# ¿Futuro?\n",
    "\n",
    "<center>\n",
    "    <table>\n",
    "        <tr>\n",
    "            <td><img src=\"img/ia/kurzweil.png\" width=\"350px\"></td>\n",
    "            <td>&nbsp;</td>\n",
    "            <td><img src=\"img/ia/top-supercomputers.jpg\" width=\"350px\"></td>\n",
    "        <tr>\n",
    "    </table>\n",
    "</center>"
   ]
  },
  {
   "cell_type": "markdown",
   "id": "15fd930a",
   "metadata": {
    "slideshow": {
     "slide_type": "slide"
    }
   },
   "source": [
    "# ¿Dudas?"
   ]
  },
  {
   "cell_type": "markdown",
   "id": "7c896d44",
   "metadata": {
    "slideshow": {
     "slide_type": "fragment"
    }
   },
   "source": [
    "# Gracias por su atención!"
   ]
  }
 ],
 "metadata": {
  "celltoolbar": "Slideshow",
  "hide_input": false,
  "kernelspec": {
   "display_name": "Python 3",
   "language": "python",
   "name": "python3"
  },
  "language_info": {
   "codemirror_mode": {
    "name": "ipython",
    "version": 3
   },
   "file_extension": ".py",
   "mimetype": "text/x-python",
   "name": "python",
   "nbconvert_exporter": "python",
   "pygments_lexer": "ipython3",
   "version": "3.8.8"
  },
  "toc": {
   "base_numbering": 1,
   "nav_menu": {},
   "number_sections": true,
   "sideBar": true,
   "skip_h1_title": false,
   "title_cell": "Table of Contents",
   "title_sidebar": "Contents",
   "toc_cell": false,
   "toc_position": {},
   "toc_section_display": true,
   "toc_window_display": false
  }
 },
 "nbformat": 4,
 "nbformat_minor": 5
}
